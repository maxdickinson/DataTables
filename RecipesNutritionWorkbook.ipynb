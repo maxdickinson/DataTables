{
 "cells": [
  {
   "cell_type": "code",
   "execution_count": 148,
   "metadata": {},
   "outputs": [],
   "source": [
    "import pandas as pd\n",
    "import numpy as np"
   ]
  },
  {
   "cell_type": "code",
   "execution_count": 107,
   "metadata": {},
   "outputs": [],
   "source": [
    "ingredientColumns = ['whole wheat flour', 'test3']\n",
    "ingredientColumns = 'whole wheat flour'"
   ]
  },
  {
   "cell_type": "code",
   "execution_count": 99,
   "metadata": {},
   "outputs": [],
   "source": [
    "recipes2 = pd.DataFrame([[]])\n",
    "recipes = pd.DataFrame([[]])"
   ]
  },
  {
   "cell_type": "code",
   "execution_count": null,
   "metadata": {},
   "outputs": [],
   "source": [
    "# experiments with making new columns "
   ]
  },
  {
   "cell_type": "code",
   "execution_count": 218,
   "metadata": {},
   "outputs": [
    {
     "data": {
      "text/plain": [
       "'#does what I want because it uses ingredientColumns as an iterable to make a new column name for each item in the iterable'"
      ]
     },
     "execution_count": 218,
     "metadata": {},
     "output_type": "execute_result"
    }
   ],
   "source": [
    "#ADDING A COLUMN\n",
    "recipes2.assign(ingredientColumns = 0)\n",
    "#not work because ingredientCOlumns is the variable name\n",
    "recipes= recipes.assign(bb = 1)\n",
    "#assign is nice for adding new columns, doesn't work with an iterable \n",
    "recipes= recipes.assign(dd = 2 , ee = 2)\n",
    "#creates new columns with the variable name as the new column name and the value in every row\n",
    "#once again good if adding new ingredient and want to 0 out every column\n",
    "recipes.loc[:,'new2']  = 0\n",
    "#this is another good`` way to add a column, I can control what the column is named and fill with 0'set\n",
    "recipes.loc[:,'new2'] = 0 \n",
    "#if I\"m adding a new ingredient, I think it's safe to fill with 0's because all my previous recipes won't have used it\n",
    "# a new ingredient implies all the old recipes haven't use it\n",
    "recipes2.loc[:, ingredientColumns] = 0\n",
    "'#does what I want because it uses ingredientColumns as an iterable to make a new column name for each item in the iterable'\n"
   ]
  },
  {
   "cell_type": "code",
   "execution_count": 219,
   "metadata": {},
   "outputs": [],
   "source": [
    "#ADDING A ROW\n",
    "recipes.loc[5, 'bb'] = [3]\n",
    "\n",
    "#this method won't work as well because I'll have some recipes that don't use every ingredient \n",
    "#need to give the label for the columns assigning to --actually I think it's fine\n",
    "recipes = pd.concat([recipes , pd.DataFrame([['test2', 2 ]])])\n",
    "#this is taking two dataFrames and joining them\n",
    "# good for adding a row, but I'm not sure how to assign to a specific column \n",
    "recipes.loc[1]\n",
    "#when not assigning to the dataframe the loc just works with labels and gives the vlaue at the position\n",
    "recipes.loc['new', ['bb' , 'cc' ,'test1']] = [4,5,6]\n",
    "#This is a nice way to do it because I will know which columns I'm assigning to  \n"
   ]
  },
  {
   "cell_type": "code",
   "execution_count": 220,
   "metadata": {},
   "outputs": [],
   "source": [
    "#MAKING THE REAL RECIPE COLUMNS AND FRAME"
   ]
  },
  {
   "cell_type": "code",
   "execution_count": 252,
   "metadata": {},
   "outputs": [],
   "source": [
    "floursFrame = pd.DataFrame()\n",
    "proteinPowdersFrame = pd.DataFrame()\n",
    "leveningFrame= pd.DataFrame()\n",
    "SpicesFrame = pd.DataFrame()\n",
    "BindingFrame = pd.DataFrame()\n",
    "tastersFrame = pd.DataFrame()\n",
    "eggSubstitutesFrame= pd.DataFrame()\n",
    "oilsAndFatsFrame= pd.DataFrame()"
   ]
  },
  {
   "cell_type": "code",
   "execution_count": 253,
   "metadata": {},
   "outputs": [],
   "source": [
    "#break up ingredients list into the type of ingredient they are so it isn't a massive dasssive list \n",
    "flours = ['bobsRedMillwholeWheatFlour' , 'allPuroseFlour', 'wincoWholeWheatPastryFlour' , 'cakeFlour' , 'bobsRedMIllPastryFlour' , 'AlmondFlour']\n",
    "proteinPowders = ['PeaProteinPowder' , 'soyProteinPowder' , 'brownRiceProteinPowder' , 'wheyAndCaseinProteinPowder']\n",
    "levening = ['backingSoda', 'backingPowder' ]\n",
    "Spices = ['cinamon' , 'nutmeg']\n",
    "Binding = ['xanthamGum' , 'guarGuam' , 'cornStarch' ]\n",
    "tasters = ['cocoaPowder' , 'vanillaExtract' , 'naturesFlavorsButterExtract' , 'espressoPowder']\n",
    "eggSubstitutes = ['bobsRedMillEggReplacer' , 'flaxMeal' , 'chiaSeeds' , 'water']\n",
    "sweetners = ['whiteSugar' , 'lightBrownSugar' , 'darkBrownSugar' , 'erythritol' , 'xylitol' , 'splendaSucralose' , 'monkFruitAndAllulose' , 'allulose' , \n",
    "             'wincoMonkFruitAndErythritol' , 'inulin']\n",
    "oilsAndFats = ['coconutOil' , 'vegtableOil' , 'canolaOil' , 'earthBalanceButter' , 'aquafabaButter' , '']\n"
   ]
  },
  {
   "cell_type": "code",
   "execution_count": 254,
   "metadata": {},
   "outputs": [],
   "source": [
    "floursFrame.loc[:,flours] = 0\n",
    "proteinPowdersFrame.loc[:, proteinPowders ] = 0\n",
    "leveningFrame.loc[ : , levening]  = 0\n",
    "SpicesFrame.loc[:,Spices] = 0\n",
    "BindingFrame.loc[:,Binding] = 0\n",
    "tastersFrame.loc[:,tasters] = 0\n",
    "eggSubstitutesFrame.loc[:, eggSubstitutes] = 0\n",
    "oilsAndFatsFrame.loc[:,oilsAndFats] = 0 "
   ]
  },
  {
   "cell_type": "code",
   "execution_count": 255,
   "metadata": {},
   "outputs": [],
   "source": [
    "floursFrame.loc['march19num1' , flours] = [ 45,60,0,0,0,15]\n",
    "proteinPowdersFrame.loc['march19num1' , proteinPowders] = np.zeros(len(proteinPowders) ).astype(int)"
   ]
  },
  {
   "cell_type": "code",
   "execution_count": 260,
   "metadata": {},
   "outputs": [],
   "source": [
    "floursFrame.insert(0,'dateNum' , ['march19num1'])\n",
    "proteinPowdersFrame.insert(0,'dateNum' , ['march19num1'])"
   ]
  },
  {
   "cell_type": "code",
   "execution_count": 261,
   "metadata": {},
   "outputs": [
    {
     "data": {
      "text/html": [
       "<div>\n",
       "<style scoped>\n",
       "    .dataframe tbody tr th:only-of-type {\n",
       "        vertical-align: middle;\n",
       "    }\n",
       "\n",
       "    .dataframe tbody tr th {\n",
       "        vertical-align: top;\n",
       "    }\n",
       "\n",
       "    .dataframe thead th {\n",
       "        text-align: right;\n",
       "    }\n",
       "</style>\n",
       "<table border=\"1\" class=\"dataframe\">\n",
       "  <thead>\n",
       "    <tr style=\"text-align: right;\">\n",
       "      <th></th>\n",
       "      <th>dateNum</th>\n",
       "      <th>march19num1</th>\n",
       "      <th>bobsRedMillwholeWheatFlour</th>\n",
       "      <th>allPuroseFlour</th>\n",
       "      <th>wincoWholeWheatPastryFlour</th>\n",
       "      <th>cakeFlour</th>\n",
       "      <th>bobsRedMIllPastryFlour</th>\n",
       "      <th>AlmondFlour</th>\n",
       "    </tr>\n",
       "  </thead>\n",
       "  <tbody>\n",
       "    <tr>\n",
       "      <th>march19num1</th>\n",
       "      <td>march19num1</td>\n",
       "      <td>march19num1</td>\n",
       "      <td>45.0</td>\n",
       "      <td>60.0</td>\n",
       "      <td>0.0</td>\n",
       "      <td>0.0</td>\n",
       "      <td>0.0</td>\n",
       "      <td>15.0</td>\n",
       "    </tr>\n",
       "  </tbody>\n",
       "</table>\n",
       "</div>"
      ],
      "text/plain": [
       "                 dateNum  march19num1  bobsRedMillwholeWheatFlour  \\\n",
       "march19num1  march19num1  march19num1                        45.0   \n",
       "\n",
       "             allPuroseFlour  wincoWholeWheatPastryFlour  cakeFlour  \\\n",
       "march19num1            60.0                         0.0        0.0   \n",
       "\n",
       "             bobsRedMIllPastryFlour  AlmondFlour  \n",
       "march19num1                     0.0         15.0  "
      ]
     },
     "execution_count": 261,
     "metadata": {},
     "output_type": "execute_result"
    }
   ],
   "source": [
    "floursFrame"
   ]
  },
  {
   "cell_type": "code",
   "execution_count": 262,
   "metadata": {},
   "outputs": [
    {
     "data": {
      "text/html": [
       "<div>\n",
       "<style scoped>\n",
       "    .dataframe tbody tr th:only-of-type {\n",
       "        vertical-align: middle;\n",
       "    }\n",
       "\n",
       "    .dataframe tbody tr th {\n",
       "        vertical-align: top;\n",
       "    }\n",
       "\n",
       "    .dataframe thead th {\n",
       "        text-align: right;\n",
       "    }\n",
       "</style>\n",
       "<table border=\"1\" class=\"dataframe\">\n",
       "  <thead>\n",
       "    <tr style=\"text-align: right;\">\n",
       "      <th></th>\n",
       "      <th>dateNum</th>\n",
       "      <th>march19num1</th>\n",
       "      <th>PeaProteinPowder</th>\n",
       "      <th>soyProteinPowder</th>\n",
       "      <th>brownRiceProteinPowder</th>\n",
       "      <th>wheyAndCaseinProteinPowder</th>\n",
       "    </tr>\n",
       "  </thead>\n",
       "  <tbody>\n",
       "    <tr>\n",
       "      <th>march19num1</th>\n",
       "      <td>march19num1</td>\n",
       "      <td>march19num1</td>\n",
       "      <td>0.0</td>\n",
       "      <td>0.0</td>\n",
       "      <td>0.0</td>\n",
       "      <td>0.0</td>\n",
       "    </tr>\n",
       "  </tbody>\n",
       "</table>\n",
       "</div>"
      ],
      "text/plain": [
       "                 dateNum  march19num1  PeaProteinPowder  soyProteinPowder  \\\n",
       "march19num1  march19num1  march19num1               0.0               0.0   \n",
       "\n",
       "             brownRiceProteinPowder  wheyAndCaseinProteinPowder  \n",
       "march19num1                     0.0                         0.0  "
      ]
     },
     "execution_count": 262,
     "metadata": {},
     "output_type": "execute_result"
    }
   ],
   "source": [
    "proteinPowdersFrame"
   ]
  },
  {
   "cell_type": "code",
   "execution_count": 263,
   "metadata": {},
   "outputs": [
    {
     "data": {
      "text/html": [
       "<div>\n",
       "<style scoped>\n",
       "    .dataframe tbody tr th:only-of-type {\n",
       "        vertical-align: middle;\n",
       "    }\n",
       "\n",
       "    .dataframe tbody tr th {\n",
       "        vertical-align: top;\n",
       "    }\n",
       "\n",
       "    .dataframe thead th {\n",
       "        text-align: right;\n",
       "    }\n",
       "</style>\n",
       "<table border=\"1\" class=\"dataframe\">\n",
       "  <thead>\n",
       "    <tr style=\"text-align: right;\">\n",
       "      <th></th>\n",
       "      <th>dateNum</th>\n",
       "      <th>march19num1</th>\n",
       "      <th>bobsRedMillwholeWheatFlour</th>\n",
       "      <th>allPuroseFlour</th>\n",
       "      <th>wincoWholeWheatPastryFlour</th>\n",
       "      <th>cakeFlour</th>\n",
       "      <th>bobsRedMIllPastryFlour</th>\n",
       "      <th>AlmondFlour</th>\n",
       "      <th>PeaProteinPowder</th>\n",
       "      <th>soyProteinPowder</th>\n",
       "      <th>brownRiceProteinPowder</th>\n",
       "      <th>wheyAndCaseinProteinPowder</th>\n",
       "    </tr>\n",
       "  </thead>\n",
       "  <tbody>\n",
       "    <tr>\n",
       "      <th>0</th>\n",
       "      <td>march19num1</td>\n",
       "      <td>march19num1</td>\n",
       "      <td>45.0</td>\n",
       "      <td>60.0</td>\n",
       "      <td>0.0</td>\n",
       "      <td>0.0</td>\n",
       "      <td>0.0</td>\n",
       "      <td>15.0</td>\n",
       "      <td>0.0</td>\n",
       "      <td>0.0</td>\n",
       "      <td>0.0</td>\n",
       "      <td>0.0</td>\n",
       "    </tr>\n",
       "  </tbody>\n",
       "</table>\n",
       "</div>"
      ],
      "text/plain": [
       "       dateNum  march19num1  bobsRedMillwholeWheatFlour  allPuroseFlour  \\\n",
       "0  march19num1  march19num1                        45.0            60.0   \n",
       "\n",
       "   wincoWholeWheatPastryFlour  cakeFlour  bobsRedMIllPastryFlour  AlmondFlour  \\\n",
       "0                         0.0        0.0                     0.0         15.0   \n",
       "\n",
       "   PeaProteinPowder  soyProteinPowder  brownRiceProteinPowder  \\\n",
       "0               0.0               0.0                     0.0   \n",
       "\n",
       "   wheyAndCaseinProteinPowder  \n",
       "0                         0.0  "
      ]
     },
     "execution_count": 263,
     "metadata": {},
     "output_type": "execute_result"
    }
   ],
   "source": [
    "pd.DataFrame.merge(floursFrame,proteinPowdersFrame)\n",
    "#THIS IS WHAT I WANT TO HAPPEN "
   ]
  },
  {
   "cell_type": "code",
   "execution_count": null,
   "metadata": {},
   "outputs": [],
   "source": []
  },
  {
   "cell_type": "code",
   "execution_count": null,
   "metadata": {},
   "outputs": [],
   "source": []
  },
  {
   "cell_type": "code",
   "execution_count": null,
   "metadata": {},
   "outputs": [],
   "source": []
  },
  {
   "cell_type": "code",
   "execution_count": null,
   "metadata": {},
   "outputs": [],
   "source": [
    "\n",
    "\n"
   ]
  },
  {
   "cell_type": "code",
   "execution_count": 192,
   "metadata": {},
   "outputs": [],
   "source": [
    "#dateNum = pd.DataFrame(['march19num1'])\n",
    "#putting a valid string into a dataFrame which I don't need for later"
   ]
  },
  {
   "cell_type": "code",
   "execution_count": 208,
   "metadata": {},
   "outputs": [
    {
     "data": {
      "text/html": [
       "<div>\n",
       "<style scoped>\n",
       "    .dataframe tbody tr th:only-of-type {\n",
       "        vertical-align: middle;\n",
       "    }\n",
       "\n",
       "    .dataframe tbody tr th {\n",
       "        vertical-align: top;\n",
       "    }\n",
       "\n",
       "    .dataframe thead th {\n",
       "        text-align: right;\n",
       "    }\n",
       "</style>\n",
       "<table border=\"1\" class=\"dataframe\">\n",
       "  <thead>\n",
       "    <tr style=\"text-align: right;\">\n",
       "      <th></th>\n",
       "      <th>marchl</th>\n",
       "      <th>bobsRedMillwholeWheatFlour</th>\n",
       "      <th>allPuroseFlour</th>\n",
       "      <th>wincoWholeWheatPastryFlour</th>\n",
       "      <th>cakeFlour</th>\n",
       "      <th>bobsRedMIllPastryFlour</th>\n",
       "      <th>AlmondFlour</th>\n",
       "      <th>marchR</th>\n",
       "      <th>PeaProteinPowder</th>\n",
       "      <th>soyProteinPowder</th>\n",
       "      <th>brownRiceProteinPowder</th>\n",
       "      <th>wheyAndCaseinProteinPowder</th>\n",
       "    </tr>\n",
       "  </thead>\n",
       "  <tbody>\n",
       "    <tr>\n",
       "      <th>march19num1</th>\n",
       "      <td>march</td>\n",
       "      <td>45.0</td>\n",
       "      <td>60.0</td>\n",
       "      <td>0.0</td>\n",
       "      <td>0.0</td>\n",
       "      <td>0.0</td>\n",
       "      <td>15.0</td>\n",
       "      <td>NaN</td>\n",
       "      <td>NaN</td>\n",
       "      <td>NaN</td>\n",
       "      <td>NaN</td>\n",
       "      <td>NaN</td>\n",
       "    </tr>\n",
       "  </tbody>\n",
       "</table>\n",
       "</div>"
      ],
      "text/plain": [
       "            marchl  bobsRedMillwholeWheatFlour  allPuroseFlour  \\\n",
       "march19num1  march                        45.0            60.0   \n",
       "\n",
       "             wincoWholeWheatPastryFlour  cakeFlour  bobsRedMIllPastryFlour  \\\n",
       "march19num1                         0.0        0.0                     0.0   \n",
       "\n",
       "             AlmondFlour marchR  PeaProteinPowder  soyProteinPowder  \\\n",
       "march19num1         15.0    NaN               NaN               NaN   \n",
       "\n",
       "             brownRiceProteinPowder  wheyAndCaseinProteinPowder  \n",
       "march19num1                     NaN                         NaN  "
      ]
     },
     "execution_count": 208,
     "metadata": {},
     "output_type": "execute_result"
    }
   ],
   "source": [
    "#pd.DataFrame.join(floursFrame,proteinPowdersFrame, how='left', on = ['march'] , lsuffix='l' , rsuffix='R')"
   ]
  },
  {
   "cell_type": "code",
   "execution_count": 129,
   "metadata": {},
   "outputs": [],
   "source": [
    "allIngredients  = pd.concat([proteinPowdersFrame , floursFrame , leveningFrame , SpicesFrame, BindingFrame,  tastersFrame,eggSubstitutesFrame, oilsAndFatsFrame ])"
   ]
  },
  {
   "cell_type": "code",
   "execution_count": 130,
   "metadata": {},
   "outputs": [
    {
     "data": {
      "text/html": [
       "<div>\n",
       "<style scoped>\n",
       "    .dataframe tbody tr th:only-of-type {\n",
       "        vertical-align: middle;\n",
       "    }\n",
       "\n",
       "    .dataframe tbody tr th {\n",
       "        vertical-align: top;\n",
       "    }\n",
       "\n",
       "    .dataframe thead th {\n",
       "        text-align: right;\n",
       "    }\n",
       "</style>\n",
       "<table border=\"1\" class=\"dataframe\">\n",
       "  <thead>\n",
       "    <tr style=\"text-align: right;\">\n",
       "      <th></th>\n",
       "      <th>PeaProteinPowder</th>\n",
       "      <th>soyProteinPowder</th>\n",
       "      <th>brownRiceProteinPowder</th>\n",
       "      <th>wheyAndCaseinProteinPowder</th>\n",
       "      <th>bobsRedMillwholeWheatFlour</th>\n",
       "      <th>allPuroseFlour</th>\n",
       "      <th>wincoWholeWheatPastryFlour</th>\n",
       "      <th>cakeFlour</th>\n",
       "      <th>bobsRedMIllPastryFlour</th>\n",
       "      <th>AlmondFlour</th>\n",
       "      <th>...</th>\n",
       "      <th>bobsRedMillEggReplacer</th>\n",
       "      <th>flaxMeal</th>\n",
       "      <th>chiaSeeds</th>\n",
       "      <th>water</th>\n",
       "      <th>coconutOil</th>\n",
       "      <th>vegtableOil</th>\n",
       "      <th>canolaOil</th>\n",
       "      <th>earthBalanceButter</th>\n",
       "      <th>aquafabaButter</th>\n",
       "      <th></th>\n",
       "    </tr>\n",
       "  </thead>\n",
       "  <tbody>\n",
       "  </tbody>\n",
       "</table>\n",
       "<p>0 rows × 31 columns</p>\n",
       "</div>"
      ],
      "text/plain": [
       "Empty DataFrame\n",
       "Columns: [PeaProteinPowder, soyProteinPowder, brownRiceProteinPowder, wheyAndCaseinProteinPowder, bobsRedMillwholeWheatFlour, allPuroseFlour, wincoWholeWheatPastryFlour, cakeFlour, bobsRedMIllPastryFlour, AlmondFlour, backingSoda, backingPowder, cinamon, nutmeg, xanthamGum, guarGuam, cornStarch, cocoaPowder, vanillaExtract, naturesFlavorsButterExtract, espressoPowder, bobsRedMillEggReplacer, flaxMeal, chiaSeeds, water, coconutOil, vegtableOil, canolaOil, earthBalanceButter, aquafabaButter, ]\n",
       "Index: []\n",
       "\n",
       "[0 rows x 31 columns]"
      ]
     },
     "execution_count": 130,
     "metadata": {},
     "output_type": "execute_result"
    }
   ],
   "source": [
    "allIngredients"
   ]
  },
  {
   "cell_type": "code",
   "execution_count": 115,
   "metadata": {},
   "outputs": [],
   "source": [
    "##how do i remake dataframe when I want to add a new ingredient and I want it to be in the proper column next to the other ones that are similar\n",
    "\n",
    "#ANSWER: each list gets it's own dataframe which are joined into a larger dataframe"
   ]
  }
 ],
 "metadata": {
  "kernelspec": {
   "display_name": "Python 3",
   "language": "python",
   "name": "python3"
  },
  "language_info": {
   "codemirror_mode": {
    "name": "ipython",
    "version": 3
   },
   "file_extension": ".py",
   "mimetype": "text/x-python",
   "name": "python",
   "nbconvert_exporter": "python",
   "pygments_lexer": "ipython3",
   "version": "3.11.8"
  }
 },
 "nbformat": 4,
 "nbformat_minor": 2
}
