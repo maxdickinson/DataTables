{
 "cells": [
  {
   "cell_type": "code",
   "execution_count": 74,
   "metadata": {},
   "outputs": [],
   "source": [
    "import pandas as pd\n",
    "import numpy as np"
   ]
  },
  {
   "cell_type": "code",
   "execution_count": 75,
   "metadata": {},
   "outputs": [],
   "source": [
    "#create empty dataframes for each class of ingredient \n",
    "floursFrame = pd.DataFrame()\n",
    "proteinPowdersFrame = pd.DataFrame()\n",
    "leveningFrame= pd.DataFrame()\n",
    "SpicesFrame = pd.DataFrame()\n",
    "BindingFrame = pd.DataFrame()\n",
    "tastersFrame = pd.DataFrame()\n",
    "eggSubstitutesFrame= pd.DataFrame()\n",
    "sweetnersFrame = pd.DataFrame()\n",
    "oilsAndFatsFrame= pd.DataFrame()\n"
   ]
  },
  {
   "cell_type": "code",
   "execution_count": 76,
   "metadata": {},
   "outputs": [],
   "source": [
    "#break up ingredients list into the type of ingredient they are so it isn't a massive dasssive list \n",
    "flours = ['bobsRedMillwholeWheatPastryFlour' , 'allPuroseFlour', 'wincoWholeWheatPastryFlour' , 'cakeFlour' , 'bobsRedMIllPastryFlour' , 'AlmondFlour']\n",
    "proteinPowders = ['PeaProteinPowder' , 'soyProteinPowder' , 'brownRiceProteinPowder' , 'wheyAndCaseinProteinPowder']\n",
    "levening = ['bakingSoda', 'bakingPowder' ]\n",
    "Spices = ['cinamon' , 'nutmeg']\n",
    "Binding = ['xanthamGum' , 'guarGuam' , 'cornStarch' ]\n",
    "tasters = ['cocoaPowder' , 'vanillaExtract' , 'naturesFlavorsButterExtract' , 'espressoPowder']\n",
    "eggSubstitutes = ['bobsRedMillEggReplacer' , 'flaxMeal' , 'chiaSeeds' , 'water']\n",
    "sweetners = ['whiteSugar' , 'lightBrownSugar' , 'darkBrownSugar' , 'erythritol' , 'xylitol' , 'splendaSucralose' , 'monkFruitAndAllulose' , 'allulose' , \n",
    "             'wincoMonkFruitAndErythritol' , 'inulin']\n",
    "oilsAndFats = ['coconutOil' , 'vegtableOil' , 'canolaOil' , 'earthBalanceButter' , 'aquafabaButter' ]\n"
   ]
  },
  {
   "cell_type": "code",
   "execution_count": 77,
   "metadata": {},
   "outputs": [],
   "source": [
    "#create columns in the frame with each of the ingredients in the ingredient list above\n",
    "floursFrame.loc[:,flours] = 0\n",
    "proteinPowdersFrame.loc[:, proteinPowders ] = 0\n",
    "leveningFrame.loc[ : , levening]  = 0\n",
    "SpicesFrame.loc[:,Spices] = 0\n",
    "BindingFrame.loc[:,Binding] = 0\n",
    "tastersFrame.loc[:,tasters] = 0\n",
    "eggSubstitutesFrame.loc[:, eggSubstitutes] = 0\n",
    "oilsAndFatsFrame.loc[:,oilsAndFats] = 0 \n",
    "sweetnersFrame.loc[:,sweetners] = 0"
   ]
  },
  {
   "cell_type": "code",
   "execution_count": 78,
   "metadata": {},
   "outputs": [],
   "source": [
    "#lists of the frames and ingredients so it's easy to loop over them\n",
    "ingredientsFrameList = [floursFrame , proteinPowdersFrame ,  leveningFrame , SpicesFrame, BindingFrame,  \n",
    "                        tastersFrame, eggSubstitutesFrame,   sweetnersFrame ,oilsAndFatsFrame] \n",
    "ingredientsList = [ flours , proteinPowders ,levening, Spices, Binding,  tasters, eggSubstitutes, sweetners ,oilsAndFats  ] \n"
   ]
  },
  {
   "cell_type": "code",
   "execution_count": 20,
   "metadata": {},
   "outputs": [],
   "source": [
    "#print the frame, takes a list of frames that want to be printed\n",
    "#utility function so I don't need to rewrite for loop all the time\n",
    "def printFrames(framesList):\n",
    "    for i in np.arange(len(framesList)):\n",
    "        print(framesList[i])"
   ]
  },
  {
   "cell_type": "code",
   "execution_count": 79,
   "metadata": {},
   "outputs": [],
   "source": [
    "#add a column to each frame in the allFrames list where the column is hard coded as having the name Date Recipe Type\n",
    "#where the date of the recipe and the type: Traditional or Protein will be indicated\n",
    "def addRecipeDateTypeColumnName(allFrames):\n",
    "    '''allFrames needs to be a list type to work'''\n",
    "    frameList = []\n",
    "    for frame in allFrames:\n",
    "        if 'DateRecipeType' not in frame.axes[1]:\n",
    "            #frame.loc[:,'DateRecipeType'] = 0\n",
    "            frame.insert(0,'DateRecipeType' , 0)\n",
    "            frameList.append(frame)\n",
    "        else:\n",
    "            return allFrames \n",
    "    return  frameList\n",
    "#floursFrame.insert(0,'dateNum' , ['march19num1'])\n",
    "#proteinPowdersFrame.insert(0,'dateNum' , ['march19num1'])\n",
    "\n"
   ]
  },
  {
   "cell_type": "code",
   "execution_count": 22,
   "metadata": {},
   "outputs": [],
   "source": [
    "#test recipe name\n",
    "recipeName = 'march19Traditional'"
   ]
  },
  {
   "cell_type": "code",
   "execution_count": 23,
   "metadata": {},
   "outputs": [],
   "source": [
    "#adds recipe to the 'DateRecipeType' column \n",
    "#reciptToAdd is a string that is converted to the pandas datatype, \n",
    "#framesToAddTo needs to be a list and preferably the list with all the ingredient frames\n",
    "def addDateType(recipeToAdd, framesToAddTo):\n",
    "    for i in np.arange(len(framesToAddTo)):\n",
    "        framesToAddTo[i].loc[len(framesToAddTo[i]) , 'DateRecipeType'] = pd.DataFrame([recipeToAdd]).convert_dtypes().loc[0,0]"
   ]
  },
  {
   "cell_type": "code",
   "execution_count": 24,
   "metadata": {},
   "outputs": [],
   "source": [
    "#adds recipe to the 'DateRecipeType' column \n",
    "#reciptToAdd is a string that is converted to the pandas datatype, \n",
    "#framesToAddTo needs to be a list and preferably the list with all the ingredient frames\n",
    "#def addDateType(recipeToAdd, framesToAddTo):\n",
    " #   for i in np.arange(len(framesToAddTo)):\n",
    "  #      framesToAddTo[i].loc[0 , '2DateRecipeType'] = pd.DataFrame([recipeToAdd]).convert_dtypes().loc[0,0]"
   ]
  },
  {
   "cell_type": "code",
   "execution_count": 35,
   "metadata": {},
   "outputs": [
    {
     "data": {
      "text/plain": [
       "[Empty DataFrame\n",
       " Columns: [DateRecipeType, bobsRedMillwholeWheatPastryFlour, allPuroseFlour, wincoWholeWheatPastryFlour, cakeFlour, bobsRedMIllPastryFlour, AlmondFlour]\n",
       " Index: [],\n",
       " Empty DataFrame\n",
       " Columns: [DateRecipeType, PeaProteinPowder, soyProteinPowder, brownRiceProteinPowder, wheyAndCaseinProteinPowder]\n",
       " Index: [],\n",
       " Empty DataFrame\n",
       " Columns: [DateRecipeType, bakingSoda, bakingPowder]\n",
       " Index: [],\n",
       " Empty DataFrame\n",
       " Columns: [DateRecipeType, cinamon, nutmeg]\n",
       " Index: [],\n",
       " Empty DataFrame\n",
       " Columns: [DateRecipeType, xanthamGum, guarGuam, cornStarch]\n",
       " Index: [],\n",
       " Empty DataFrame\n",
       " Columns: [DateRecipeType, cocoaPowder, vanillaExtract, naturesFlavorsButterExtract, espressoPowder]\n",
       " Index: [],\n",
       " Empty DataFrame\n",
       " Columns: [DateRecipeType, bobsRedMillEggReplacer, flaxMeal, chiaSeeds, water]\n",
       " Index: [],\n",
       " Empty DataFrame\n",
       " Columns: [DateRecipeType, whiteSugar, lightBrownSugar, darkBrownSugar, erythritol, xylitol, splendaSucralose, monkFruitAndAllulose, allulose, wincoMonkFruitAndErythritol, inulin]\n",
       " Index: [],\n",
       " Empty DataFrame\n",
       " Columns: [DateRecipeType, coconutOil, vegtableOil, canolaOil, earthBalanceButter, aquafabaButter]\n",
       " Index: []]"
      ]
     },
     "execution_count": 35,
     "metadata": {},
     "output_type": "execute_result"
    }
   ],
   "source": [
    "#adds a recipe to the frames \n",
    "addRecipeDateTypeColumnName(ingredientsFrameList)\n",
    "#addDateType(recipeName , ingredientsFrameList)\n",
    "#placeWhereRecipeDateTypeIs = proteinPowdersFrame.isin([recipeName]).index[0]\n"
   ]
  },
  {
   "cell_type": "code",
   "execution_count": 26,
   "metadata": {},
   "outputs": [
    {
     "data": {
      "text/plain": [
       "0"
      ]
     },
     "execution_count": 26,
     "metadata": {},
     "output_type": "execute_result"
    }
   ],
   "source": [
    "#placeWhereRecipeDateTypeIs"
   ]
  },
  {
   "cell_type": "code",
   "execution_count": 80,
   "metadata": {},
   "outputs": [
    {
     "data": {
      "text/html": [
       "<div>\n",
       "<style scoped>\n",
       "    .dataframe tbody tr th:only-of-type {\n",
       "        vertical-align: middle;\n",
       "    }\n",
       "\n",
       "    .dataframe tbody tr th {\n",
       "        vertical-align: top;\n",
       "    }\n",
       "\n",
       "    .dataframe thead th {\n",
       "        text-align: right;\n",
       "    }\n",
       "</style>\n",
       "<table border=\"1\" class=\"dataframe\">\n",
       "  <thead>\n",
       "    <tr style=\"text-align: right;\">\n",
       "      <th></th>\n",
       "      <th>bobsRedMillwholeWheatPastryFlour</th>\n",
       "      <th>allPuroseFlour</th>\n",
       "      <th>wincoWholeWheatPastryFlour</th>\n",
       "      <th>cakeFlour</th>\n",
       "      <th>bobsRedMIllPastryFlour</th>\n",
       "      <th>AlmondFlour</th>\n",
       "    </tr>\n",
       "  </thead>\n",
       "  <tbody>\n",
       "  </tbody>\n",
       "</table>\n",
       "</div>"
      ],
      "text/plain": [
       "Empty DataFrame\n",
       "Columns: [bobsRedMillwholeWheatPastryFlour, allPuroseFlour, wincoWholeWheatPastryFlour, cakeFlour, bobsRedMIllPastryFlour, AlmondFlour]\n",
       "Index: []"
      ]
     },
     "execution_count": 80,
     "metadata": {},
     "output_type": "execute_result"
    }
   ],
   "source": [
    "floursFrame"
   ]
  },
  {
   "cell_type": "code",
   "execution_count": 31,
   "metadata": {},
   "outputs": [
    {
     "data": {
      "text/plain": [
       "0"
      ]
     },
     "execution_count": 31,
     "metadata": {},
     "output_type": "execute_result"
    }
   ],
   "source": [
    "#placeWhereRecipeDateTypeIs"
   ]
  },
  {
   "cell_type": "code",
   "execution_count": 13,
   "metadata": {},
   "outputs": [
    {
     "data": {
      "text/plain": [
       "\"validate that ingedient lists are the same? \\nI see a problem if I'm putting a value into a mismatched list \\nor putting a value in at the wrong spot \""
      ]
     },
     "execution_count": 13,
     "metadata": {},
     "output_type": "execute_result"
    }
   ],
   "source": [
    "'''validate that ingedient lists are the same? \n",
    "I see a problem if I'm putting a value into a mismatched list \n",
    "or putting a value in at the wrong spot '''"
   ]
  },
  {
   "cell_type": "code",
   "execution_count": 14,
   "metadata": {},
   "outputs": [],
   "source": [
    "#this is the point where it feels an excel or google sheets is better, I do have excel so that's cool \n",
    "#there's no problem or shame in using different tools for different tasks "
   ]
  },
  {
   "cell_type": "code",
   "execution_count": 15,
   "metadata": {},
   "outputs": [],
   "source": [
    "#I have over 40 recipes, adding a new cell for each one sounds tedious and not a good use of space \n",
    "# it was cool to set this up and I think it's useful \n",
    "#the tools work in concert "
   ]
  },
  {
   "cell_type": "code",
   "execution_count": 32,
   "metadata": {},
   "outputs": [],
   "source": [
    "\n",
    "#keepin a list of ingredients close to where data for it will be inputed so it's easier to see which ingredient gets which value\n",
    "flours = [             'bobsRedMillwholeWheatPastryFlour' , 'allPuroseFlour',            'wincoWholeWheatPastryFlour' , \n",
    "                       'cakeFlour' ,                         'bobsRedMIllPastryFlour' ,  'AlmondFlour']\n",
    "\n",
    "ingredientsFrameList[0].loc[ placeWhereRecipeDateTypeIs , ingredientsList[0]] = [60,65,0,\n",
    "                                                                                 0,0,0]\n",
    "\n",
    "proteinPowders = [     'PeaProteinPowder' ,                   'soyProteinPowder' ,       'brownRiceProteinPowder' ,\n",
    "                       'wheyAndCaseinProteinPowder']\n",
    "\n",
    "ingredientsFrameList[1].loc[ placeWhereRecipeDateTypeIs , ingredientsList[1]] = [0,0,0,\n",
    "                                                                                 0]\n",
    "\n",
    "levening =  [          'bakingSoda',                         'bakingPowder' ]\n",
    "\n",
    "ingredientsFrameList[2].loc[ placeWhereRecipeDateTypeIs , ingredientsList[2]] = [0.5, 0]\n",
    "\n",
    "Spices = [              'cinamon' ,                          'nutmeg']\n",
    "\n",
    "ingredientsFrameList[3].loc[ placeWhereRecipeDateTypeIs , ingredientsList[3]] = [0.25, 0.125]\n",
    "\n",
    "Binding = [             'xanthamGum' ,                        'guarGuam' ,                'cornStarch' ]\n",
    "\n",
    "ingredientsFrameList[4].loc[ placeWhereRecipeDateTypeIs , ingredientsList[4]]= [0,0,0.5]\n",
    "\n",
    "tasters = [             'cocoaPowder' ,                       'vanillaExtract' ,          'naturesFlavorsButterExtract' , \n",
    "                        'espressoPowder']\n",
    "\n",
    "ingredientsFrameList[5].loc[ placeWhereRecipeDateTypeIs , ingredientsList[5]]= [30,0.25,\n",
    "                                                                                0.125,0.25]\n",
    "\n",
    "eggSubstitutes = [      'bobsRedMillEggReplacer' ,            'flaxMeal'  ,                'water' , \n",
    "                        'chiaSeeds']\n",
    "\n",
    "ingredientsFrameList[6].loc[ placeWhereRecipeDateTypeIs , ingredientsList[6]]= [0,7,45,\n",
    "                                                                                0 ]\n",
    "\n",
    "sweetners = [           'whiteSugar' ,                        'lightBrownSugar' ,          'darkBrownSugar' , \n",
    "                        'erythritol' ,                        'xylitol' ,                  'splendaSucralose' , \n",
    "                        'monkFruitAndAllulose' ,              'allulose' ,                 'wincoMonkFruitAndErythritol' , \n",
    "                        'inulin']\n",
    "\n",
    "ingredientsFrameList[7].loc[ placeWhereRecipeDateTypeIs , ingredientsList[7]]= [48,0,0,\n",
    "                                                                                0,0,0,\n",
    "                                                                                0,20,0,\n",
    "                                                                                0]\n",
    "\n",
    "oilsAndFats = [         'coconutOil' ,                        'vegtableOil' ,              'canolaOil' , \n",
    "                        'earthBalanceButter' ,                'aquafabaButter' ]\n",
    "\n",
    "ingredientsFrameList[8].loc[ placeWhereRecipeDateTypeIs , ingredientsList[8]]= [ 0,0,0,\n",
    "                                                                                 0,60]"
   ]
  },
  {
   "cell_type": "code",
   "execution_count": 33,
   "metadata": {},
   "outputs": [
    {
     "data": {
      "text/html": [
       "<div>\n",
       "<style scoped>\n",
       "    .dataframe tbody tr th:only-of-type {\n",
       "        vertical-align: middle;\n",
       "    }\n",
       "\n",
       "    .dataframe tbody tr th {\n",
       "        vertical-align: top;\n",
       "    }\n",
       "\n",
       "    .dataframe thead th {\n",
       "        text-align: right;\n",
       "    }\n",
       "</style>\n",
       "<table border=\"1\" class=\"dataframe\">\n",
       "  <thead>\n",
       "    <tr style=\"text-align: right;\">\n",
       "      <th></th>\n",
       "      <th>PeaProteinPowder</th>\n",
       "      <th>soyProteinPowder</th>\n",
       "      <th>brownRiceProteinPowder</th>\n",
       "      <th>wheyAndCaseinProteinPowder</th>\n",
       "      <th>DateRecipeType</th>\n",
       "    </tr>\n",
       "  </thead>\n",
       "  <tbody>\n",
       "    <tr>\n",
       "      <th>0</th>\n",
       "      <td>0.0</td>\n",
       "      <td>0.0</td>\n",
       "      <td>0.0</td>\n",
       "      <td>0.0</td>\n",
       "      <td>NaN</td>\n",
       "    </tr>\n",
       "    <tr>\n",
       "      <th>1</th>\n",
       "      <td>NaN</td>\n",
       "      <td>NaN</td>\n",
       "      <td>NaN</td>\n",
       "      <td>NaN</td>\n",
       "      <td>NaN</td>\n",
       "    </tr>\n",
       "  </tbody>\n",
       "</table>\n",
       "</div>"
      ],
      "text/plain": [
       "   PeaProteinPowder  soyProteinPowder  brownRiceProteinPowder  \\\n",
       "0               0.0               0.0                     0.0   \n",
       "1               NaN               NaN                     NaN   \n",
       "\n",
       "   wheyAndCaseinProteinPowder DateRecipeType  \n",
       "0                         0.0            NaN  \n",
       "1                         NaN            NaN  "
      ]
     },
     "execution_count": 33,
     "metadata": {},
     "output_type": "execute_result"
    }
   ],
   "source": [
    "ingredientsFrameList[1]"
   ]
  },
  {
   "cell_type": "code",
   "execution_count": 49,
   "metadata": {},
   "outputs": [],
   "source": [
    "#MAKE a big frame of the ingredients\n",
    "allIngredientsFrame = pd.DataFrame()\n",
    "#addRecipeDateTypeColumnName([allIngredientsFrame])\n",
    "#addDateType(recipeName , allIngredientsFrame)\n",
    "for i in np.arange(len(ingredientsFrameList)):\n",
    "    allIngredientsFrame = pd.DataFrame.merge(allIngredientsFrame , ingredientsFrameList[i])"
   ]
  },
  {
   "cell_type": "code",
   "execution_count": 72,
   "metadata": {},
   "outputs": [],
   "source": [
    "allIngredientsFrame = pd.DataFrame()\n",
    "\n",
    "addRecipeDateTypeColumnName([allIngredientsFrame])\n",
    "allIngredientsFrame = pd.DataFrame.merge(allIngredientsFrame , ingredientsFrameList[0] , on = 'DateRecipeType')\n",
    "allIngredientsFrame = pd.DataFrame.merge(allIngredientsFrame , ingredientsFrameList[1] , on = 'DateRecipeType')"
   ]
  },
  {
   "cell_type": "code",
   "execution_count": 84,
   "metadata": {},
   "outputs": [],
   "source": [
    "allIngredientsFrame  = pd.DataFrame()\n",
    "for i in ingredientsList:\n",
    "    allIngredientsFrame.loc[:, i] = 0\n"
   ]
  },
  {
   "cell_type": "code",
   "execution_count": 85,
   "metadata": {},
   "outputs": [
    {
     "data": {
      "text/html": [
       "<div>\n",
       "<style scoped>\n",
       "    .dataframe tbody tr th:only-of-type {\n",
       "        vertical-align: middle;\n",
       "    }\n",
       "\n",
       "    .dataframe tbody tr th {\n",
       "        vertical-align: top;\n",
       "    }\n",
       "\n",
       "    .dataframe thead th {\n",
       "        text-align: right;\n",
       "    }\n",
       "</style>\n",
       "<table border=\"1\" class=\"dataframe\">\n",
       "  <thead>\n",
       "    <tr style=\"text-align: right;\">\n",
       "      <th></th>\n",
       "      <th>bobsRedMillwholeWheatPastryFlour</th>\n",
       "      <th>allPuroseFlour</th>\n",
       "      <th>wincoWholeWheatPastryFlour</th>\n",
       "      <th>cakeFlour</th>\n",
       "      <th>bobsRedMIllPastryFlour</th>\n",
       "      <th>AlmondFlour</th>\n",
       "      <th>PeaProteinPowder</th>\n",
       "      <th>soyProteinPowder</th>\n",
       "      <th>brownRiceProteinPowder</th>\n",
       "      <th>wheyAndCaseinProteinPowder</th>\n",
       "      <th>...</th>\n",
       "      <th>splendaSucralose</th>\n",
       "      <th>monkFruitAndAllulose</th>\n",
       "      <th>allulose</th>\n",
       "      <th>wincoMonkFruitAndErythritol</th>\n",
       "      <th>inulin</th>\n",
       "      <th>coconutOil</th>\n",
       "      <th>vegtableOil</th>\n",
       "      <th>canolaOil</th>\n",
       "      <th>earthBalanceButter</th>\n",
       "      <th>aquafabaButter</th>\n",
       "    </tr>\n",
       "  </thead>\n",
       "  <tbody>\n",
       "  </tbody>\n",
       "</table>\n",
       "<p>0 rows × 40 columns</p>\n",
       "</div>"
      ],
      "text/plain": [
       "Empty DataFrame\n",
       "Columns: [bobsRedMillwholeWheatPastryFlour, allPuroseFlour, wincoWholeWheatPastryFlour, cakeFlour, bobsRedMIllPastryFlour, AlmondFlour, PeaProteinPowder, soyProteinPowder, brownRiceProteinPowder, wheyAndCaseinProteinPowder, bakingSoda, bakingPowder, cinamon, nutmeg, xanthamGum, guarGuam, cornStarch, cocoaPowder, vanillaExtract, naturesFlavorsButterExtract, espressoPowder, bobsRedMillEggReplacer, flaxMeal, chiaSeeds, water, whiteSugar, lightBrownSugar, darkBrownSugar, erythritol, xylitol, splendaSucralose, monkFruitAndAllulose, allulose, wincoMonkFruitAndErythritol, inulin, coconutOil, vegtableOil, canolaOil, earthBalanceButter, aquafabaButter]\n",
       "Index: []\n",
       "\n",
       "[0 rows x 40 columns]"
      ]
     },
     "execution_count": 85,
     "metadata": {},
     "output_type": "execute_result"
    }
   ],
   "source": [
    "allIngredientsFrame"
   ]
  },
  {
   "cell_type": "code",
   "execution_count": 89,
   "metadata": {},
   "outputs": [],
   "source": [
    "allIngredientsFrame.insert(0, \"RecipeDateType\" , 0 )\n"
   ]
  },
  {
   "cell_type": "code",
   "execution_count": 91,
   "metadata": {},
   "outputs": [],
   "source": [
    "#write Recipe INgredient big frame to current working directory \n",
    "#allIngredientsFrame.to_excel( 'RecipeIngredients.xlsx')\n",
    "allIngredientsFrame.to_excel('RecipeIngredients.xlsx')"
   ]
  },
  {
   "cell_type": "code",
   "execution_count": 90,
   "metadata": {},
   "outputs": [
    {
     "data": {
      "text/html": [
       "<div>\n",
       "<style scoped>\n",
       "    .dataframe tbody tr th:only-of-type {\n",
       "        vertical-align: middle;\n",
       "    }\n",
       "\n",
       "    .dataframe tbody tr th {\n",
       "        vertical-align: top;\n",
       "    }\n",
       "\n",
       "    .dataframe thead th {\n",
       "        text-align: right;\n",
       "    }\n",
       "</style>\n",
       "<table border=\"1\" class=\"dataframe\">\n",
       "  <thead>\n",
       "    <tr style=\"text-align: right;\">\n",
       "      <th></th>\n",
       "      <th>RecipeDateType</th>\n",
       "      <th>bobsRedMillwholeWheatPastryFlour</th>\n",
       "      <th>allPuroseFlour</th>\n",
       "      <th>wincoWholeWheatPastryFlour</th>\n",
       "      <th>cakeFlour</th>\n",
       "      <th>bobsRedMIllPastryFlour</th>\n",
       "      <th>AlmondFlour</th>\n",
       "      <th>PeaProteinPowder</th>\n",
       "      <th>soyProteinPowder</th>\n",
       "      <th>brownRiceProteinPowder</th>\n",
       "      <th>...</th>\n",
       "      <th>splendaSucralose</th>\n",
       "      <th>monkFruitAndAllulose</th>\n",
       "      <th>allulose</th>\n",
       "      <th>wincoMonkFruitAndErythritol</th>\n",
       "      <th>inulin</th>\n",
       "      <th>coconutOil</th>\n",
       "      <th>vegtableOil</th>\n",
       "      <th>canolaOil</th>\n",
       "      <th>earthBalanceButter</th>\n",
       "      <th>aquafabaButter</th>\n",
       "    </tr>\n",
       "  </thead>\n",
       "  <tbody>\n",
       "  </tbody>\n",
       "</table>\n",
       "<p>0 rows × 41 columns</p>\n",
       "</div>"
      ],
      "text/plain": [
       "Empty DataFrame\n",
       "Columns: [RecipeDateType, bobsRedMillwholeWheatPastryFlour, allPuroseFlour, wincoWholeWheatPastryFlour, cakeFlour, bobsRedMIllPastryFlour, AlmondFlour, PeaProteinPowder, soyProteinPowder, brownRiceProteinPowder, wheyAndCaseinProteinPowder, bakingSoda, bakingPowder, cinamon, nutmeg, xanthamGum, guarGuam, cornStarch, cocoaPowder, vanillaExtract, naturesFlavorsButterExtract, espressoPowder, bobsRedMillEggReplacer, flaxMeal, chiaSeeds, water, whiteSugar, lightBrownSugar, darkBrownSugar, erythritol, xylitol, splendaSucralose, monkFruitAndAllulose, allulose, wincoMonkFruitAndErythritol, inulin, coconutOil, vegtableOil, canolaOil, earthBalanceButter, aquafabaButter]\n",
       "Index: []\n",
       "\n",
       "[0 rows x 41 columns]"
      ]
     },
     "execution_count": 90,
     "metadata": {},
     "output_type": "execute_result"
    }
   ],
   "source": [
    "allIngredientsFrame"
   ]
  },
  {
   "cell_type": "code",
   "execution_count": null,
   "metadata": {},
   "outputs": [],
   "source": []
  },
  {
   "cell_type": "code",
   "execution_count": null,
   "metadata": {},
   "outputs": [],
   "source": [
    "#there's a countable less that 100 amount of ingredients, so the frame won't be too much to handle "
   ]
  },
  {
   "cell_type": "code",
   "execution_count": null,
   "metadata": {},
   "outputs": [],
   "source": [
    "#it would be nice to have a function for new recipes so that I\"m not copy pasting the ingredienets and locating the column every time "
   ]
  },
  {
   "cell_type": "code",
   "execution_count": null,
   "metadata": {},
   "outputs": [],
   "source": [
    "#how do I make sure I'm putting these in the right index each time, because using only one frame to do it seems iffy to me "
   ]
  },
  {
   "cell_type": "code",
   "execution_count": null,
   "metadata": {},
   "outputs": [],
   "source": [
    "# enter values into the frames\n",
    "#It would be nice if it was easy to see which place in the list goes to which input\n",
    "#I could prompt the user to enter values here using a file instead of a notebook \n",
    "\n",
    "\n",
    "\n"
   ]
  },
  {
   "cell_type": "code",
   "execution_count": null,
   "metadata": {},
   "outputs": [],
   "source": []
  },
  {
   "cell_type": "code",
   "execution_count": null,
   "metadata": {},
   "outputs": [],
   "source": []
  },
  {
   "cell_type": "code",
   "execution_count": null,
   "metadata": {},
   "outputs": [],
   "source": []
  },
  {
   "cell_type": "code",
   "execution_count": null,
   "metadata": {},
   "outputs": [],
   "source": []
  },
  {
   "cell_type": "code",
   "execution_count": 272,
   "metadata": {},
   "outputs": [],
   "source": [
    "recipeName = recipeName.convert_dtypes()\n",
    "##!!!!!\n",
    "'''this is the one that works to convert the object string to a pandas string '''"
   ]
  },
  {
   "cell_type": "code",
   "execution_count": null,
   "metadata": {},
   "outputs": [],
   "source": [
    "#proteinPowdersFrame.loc[placeWhereRecipeDateTypeIs , proteinPowders] = \n",
    "#floursFrame.loc[ placeWhereRecipeDateTypeIs, flours] = \n",
    "#leveningFrame.loc[placeWhereRecipeDateTypeIs,levening] = "
   ]
  },
  {
   "cell_type": "code",
   "execution_count": null,
   "metadata": {},
   "outputs": [],
   "source": [
    "#stopping here for 3/20, I need to add the recipe ingredidents now I think \n",
    "#placeWhereRecipeDateTypeIs = proteinPowdersFrame.isin([recipeName]).index\n"
   ]
  },
  {
   "cell_type": "code",
   "execution_count": 14,
   "metadata": {},
   "outputs": [
    {
     "data": {
      "text/html": [
       "<div>\n",
       "<style scoped>\n",
       "    .dataframe tbody tr th:only-of-type {\n",
       "        vertical-align: middle;\n",
       "    }\n",
       "\n",
       "    .dataframe tbody tr th {\n",
       "        vertical-align: top;\n",
       "    }\n",
       "\n",
       "    .dataframe thead th {\n",
       "        text-align: right;\n",
       "    }\n",
       "</style>\n",
       "<table border=\"1\" class=\"dataframe\">\n",
       "  <thead>\n",
       "    <tr style=\"text-align: right;\">\n",
       "      <th></th>\n",
       "      <th>dateRecipeType</th>\n",
       "      <th>bobsRedMillwholeWheatPastryFlour</th>\n",
       "      <th>allPuroseFlour</th>\n",
       "      <th>wincoWholeWheatPastryFlour</th>\n",
       "      <th>cakeFlour</th>\n",
       "      <th>bobsRedMIllPastryFlour</th>\n",
       "      <th>AlmondFlour</th>\n",
       "    </tr>\n",
       "  </thead>\n",
       "  <tbody>\n",
       "    <tr>\n",
       "      <th>0</th>\n",
       "      <td>march20Trad</td>\n",
       "      <td>60.0</td>\n",
       "      <td>65.0</td>\n",
       "      <td>0.0</td>\n",
       "      <td>0.0</td>\n",
       "      <td>0.0</td>\n",
       "      <td>0.0</td>\n",
       "    </tr>\n",
       "  </tbody>\n",
       "</table>\n",
       "</div>"
      ],
      "text/plain": [
       "  dateRecipeType  bobsRedMillwholeWheatPastryFlour  allPuroseFlour  \\\n",
       "0    march20Trad                              60.0            65.0   \n",
       "\n",
       "   wincoWholeWheatPastryFlour  cakeFlour  bobsRedMIllPastryFlour  AlmondFlour  \n",
       "0                         0.0        0.0                     0.0          0.0  "
      ]
     },
     "execution_count": 14,
     "metadata": {},
     "output_type": "execute_result"
    }
   ],
   "source": [
    "floursFrame"
   ]
  },
  {
   "cell_type": "code",
   "execution_count": 219,
   "metadata": {},
   "outputs": [],
   "source": [
    "'''# enter values into the frames\n",
    "#It would be nice if it was easy to see which place in the list goes to which input\n",
    "#I could prompt the user to enter values here using a file instead of a notebook \n",
    "placeWhereRecipeDateTypeIs = proteinPowdersFrame.isin([recipeName]).index\n",
    "ingredientsFrameList[0].loc[ placeWhereRecipeDateTypeIs , ingredientsList[0]] = [60,65,0,0,0,0]\n",
    "ingredientsFrameList[1].loc[ placeWhereRecipeDateTypeIs , ingredientsList[1]] = [0,0,0,0]\n",
    "ingredientsFrameList[2].loc[ placeWhereRecipeDateTypeIs , ingredientsList[2]] = [0.5,0]\n",
    "ingredientsFrameList[3].loc[ placeWhereRecipeDateTypeIs , ingredientsList[3]] = [0.25,0.125]\n",
    "ingredientsFrameList[4].loc[ placeWhereRecipeDateTypeIs , ingredientsList[4]]= [0,0,0.5]\n",
    "ingredientsFrameList[5].loc[ placeWhereRecipeDateTypeIs , ingredientsList[5]]= [30,0.25,0.125,0.25]\n",
    "ingredientsFrameList[6].loc[ placeWhereRecipeDateTypeIs , ingredientsList[6]]= [0,7,45, 0 ]\n",
    "ingredientsFrameList[7].loc[ placeWhereRecipeDateTypeIs , ingredientsList[7]]= [48,0,0,0,0,0,0,20,0,0]\n",
    "ingredientsFrameList[8].loc[ placeWhereRecipeDateTypeIs , ingredientsList[8]]= [0,0,0,0,60]'''"
   ]
  },
  {
   "cell_type": "code",
   "execution_count": 279,
   "metadata": {},
   "outputs": [],
   "source": [
    "# create a frame to have all the ingredients in \n",
    "allIngredientsFrame = pd.DataFrame()\n",
    "addRecipeDateTypeColumnName([allIngredientsFrame])\n",
    "addDateType(recipeName , [allIngredientsFrame])"
   ]
  },
  {
   "cell_type": "code",
   "execution_count": 15,
   "metadata": {},
   "outputs": [
    {
     "data": {
      "text/html": [
       "<div>\n",
       "<style scoped>\n",
       "    .dataframe tbody tr th:only-of-type {\n",
       "        vertical-align: middle;\n",
       "    }\n",
       "\n",
       "    .dataframe tbody tr th {\n",
       "        vertical-align: top;\n",
       "    }\n",
       "\n",
       "    .dataframe thead th {\n",
       "        text-align: right;\n",
       "    }\n",
       "</style>\n",
       "<table border=\"1\" class=\"dataframe\">\n",
       "  <thead>\n",
       "    <tr style=\"text-align: right;\">\n",
       "      <th></th>\n",
       "      <th>dateRecipeType</th>\n",
       "      <th>PeaProteinPowder</th>\n",
       "      <th>soyProteinPowder</th>\n",
       "      <th>brownRiceProteinPowder</th>\n",
       "      <th>wheyAndCaseinProteinPowder</th>\n",
       "    </tr>\n",
       "  </thead>\n",
       "  <tbody>\n",
       "    <tr>\n",
       "      <th>0</th>\n",
       "      <td>march20Trad</td>\n",
       "      <td>0.0</td>\n",
       "      <td>0.0</td>\n",
       "      <td>0.0</td>\n",
       "      <td>0.0</td>\n",
       "    </tr>\n",
       "  </tbody>\n",
       "</table>\n",
       "</div>"
      ],
      "text/plain": [
       "  dateRecipeType  PeaProteinPowder  soyProteinPowder  brownRiceProteinPowder  \\\n",
       "0    march20Trad               0.0               0.0                     0.0   \n",
       "\n",
       "   wheyAndCaseinProteinPowder  \n",
       "0                         0.0  "
      ]
     },
     "execution_count": 15,
     "metadata": {},
     "output_type": "execute_result"
    }
   ],
   "source": [
    "proteinPowdersFrame"
   ]
  },
  {
   "cell_type": "code",
   "execution_count": 16,
   "metadata": {},
   "outputs": [
    {
     "data": {
      "text/html": [
       "<div>\n",
       "<style scoped>\n",
       "    .dataframe tbody tr th:only-of-type {\n",
       "        vertical-align: middle;\n",
       "    }\n",
       "\n",
       "    .dataframe tbody tr th {\n",
       "        vertical-align: top;\n",
       "    }\n",
       "\n",
       "    .dataframe thead th {\n",
       "        text-align: right;\n",
       "    }\n",
       "</style>\n",
       "<table border=\"1\" class=\"dataframe\">\n",
       "  <thead>\n",
       "    <tr style=\"text-align: right;\">\n",
       "      <th></th>\n",
       "      <th>dateRecipeType</th>\n",
       "      <th>bobsRedMillwholeWheatPastryFlour</th>\n",
       "      <th>allPuroseFlour</th>\n",
       "      <th>wincoWholeWheatPastryFlour</th>\n",
       "      <th>cakeFlour</th>\n",
       "      <th>bobsRedMIllPastryFlour</th>\n",
       "      <th>AlmondFlour</th>\n",
       "    </tr>\n",
       "  </thead>\n",
       "  <tbody>\n",
       "    <tr>\n",
       "      <th>0</th>\n",
       "      <td>march20Trad</td>\n",
       "      <td>60.0</td>\n",
       "      <td>65.0</td>\n",
       "      <td>0.0</td>\n",
       "      <td>0.0</td>\n",
       "      <td>0.0</td>\n",
       "      <td>0.0</td>\n",
       "    </tr>\n",
       "  </tbody>\n",
       "</table>\n",
       "</div>"
      ],
      "text/plain": [
       "  dateRecipeType  bobsRedMillwholeWheatPastryFlour  allPuroseFlour  \\\n",
       "0    march20Trad                              60.0            65.0   \n",
       "\n",
       "   wincoWholeWheatPastryFlour  cakeFlour  bobsRedMIllPastryFlour  AlmondFlour  \n",
       "0                         0.0        0.0                     0.0          0.0  "
      ]
     },
     "execution_count": 16,
     "metadata": {},
     "output_type": "execute_result"
    }
   ],
   "source": [
    "\n",
    "floursFrame"
   ]
  },
  {
   "cell_type": "code",
   "execution_count": 161,
   "metadata": {},
   "outputs": [],
   "source": [
    "#floursFrame.loc[len(floursFrame) , 'DateRecipeType'] = pd.DataFrame([recipeName]).astype('string').iloc[0,0]\n",
    "#this uses a method to get a string into a dataframe, it's just roundabout "
   ]
  },
  {
   "cell_type": "code",
   "execution_count": 40,
   "metadata": {},
   "outputs": [],
   "source": [
    "#testing adding a row with a date and recipe num"
   ]
  },
  {
   "cell_type": "code",
   "execution_count": 41,
   "metadata": {},
   "outputs": [],
   "source": [
    "'''adding the values/amounts used in each recipe to the ingredient type frames'''\n",
    "#floursFrame.loc['march19num1' , flours] = [ 45,60,0,0,0,15]\n",
    "#proteinPowdersFrame.loc['march19num1' , proteinPowders] = np.zeros(len(proteinPowders) ).astype(int)"
   ]
  },
  {
   "cell_type": "code",
   "execution_count": null,
   "metadata": {},
   "outputs": [],
   "source": []
  },
  {
   "cell_type": "code",
   "execution_count": 185,
   "metadata": {},
   "outputs": [],
   "source": [
    "#allFrames = [floursFrame , proteinPowdersFrame , leveningFrame , SpicesFrame , BindingFrame , tastersFrame , eggSubstitutesFrame , oilsAndFatsFrame , sweetnersFrame] "
   ]
  },
  {
   "cell_type": "code",
   "execution_count": 186,
   "metadata": {},
   "outputs": [],
   "source": [
    "#addRecipeDateType(\"march20Trad\",allFrames)\n",
    "#floursFrame\n",
    "#the function doesn't need to have a varia`ble returned to it for the individual frames to have the recipe date and type added to it"
   ]
  },
  {
   "cell_type": "code",
   "execution_count": null,
   "metadata": {},
   "outputs": [],
   "source": []
  },
  {
   "cell_type": "code",
   "execution_count": 12,
   "metadata": {},
   "outputs": [
    {
     "data": {
      "text/html": [
       "<div>\n",
       "<style scoped>\n",
       "    .dataframe tbody tr th:only-of-type {\n",
       "        vertical-align: middle;\n",
       "    }\n",
       "\n",
       "    .dataframe tbody tr th {\n",
       "        vertical-align: top;\n",
       "    }\n",
       "\n",
       "    .dataframe thead th {\n",
       "        text-align: right;\n",
       "    }\n",
       "</style>\n",
       "<table border=\"1\" class=\"dataframe\">\n",
       "  <thead>\n",
       "    <tr style=\"text-align: right;\">\n",
       "      <th></th>\n",
       "      <th>dateNum</th>\n",
       "      <th>PeaProteinPowder</th>\n",
       "      <th>soyProteinPowder</th>\n",
       "      <th>brownRiceProteinPowder</th>\n",
       "      <th>wheyAndCaseinProteinPowder</th>\n",
       "    </tr>\n",
       "  </thead>\n",
       "  <tbody>\n",
       "    <tr>\n",
       "      <th>0</th>\n",
       "      <td>march19num1</td>\n",
       "      <td>NaN</td>\n",
       "      <td>NaN</td>\n",
       "      <td>NaN</td>\n",
       "      <td>NaN</td>\n",
       "    </tr>\n",
       "  </tbody>\n",
       "</table>\n",
       "</div>"
      ],
      "text/plain": [
       "       dateNum  PeaProteinPowder  soyProteinPowder  brownRiceProteinPowder  \\\n",
       "0  march19num1               NaN               NaN                     NaN   \n",
       "\n",
       "   wheyAndCaseinProteinPowder  \n",
       "0                         NaN  "
      ]
     },
     "execution_count": 12,
     "metadata": {},
     "output_type": "execute_result"
    }
   ],
   "source": [
    "proteinPowdersFrame"
   ]
  },
  {
   "cell_type": "code",
   "execution_count": 13,
   "metadata": {},
   "outputs": [
    {
     "data": {
      "text/html": [
       "<div>\n",
       "<style scoped>\n",
       "    .dataframe tbody tr th:only-of-type {\n",
       "        vertical-align: middle;\n",
       "    }\n",
       "\n",
       "    .dataframe tbody tr th {\n",
       "        vertical-align: top;\n",
       "    }\n",
       "\n",
       "    .dataframe thead th {\n",
       "        text-align: right;\n",
       "    }\n",
       "</style>\n",
       "<table border=\"1\" class=\"dataframe\">\n",
       "  <thead>\n",
       "    <tr style=\"text-align: right;\">\n",
       "      <th></th>\n",
       "      <th>dateNum</th>\n",
       "      <th>bobsRedMillwholeWheatPastryFlour</th>\n",
       "      <th>allPuroseFlour</th>\n",
       "      <th>wincoWholeWheatPastryFlour</th>\n",
       "      <th>cakeFlour</th>\n",
       "      <th>bobsRedMIllPastryFlour</th>\n",
       "      <th>AlmondFlour</th>\n",
       "      <th>PeaProteinPowder</th>\n",
       "      <th>soyProteinPowder</th>\n",
       "      <th>brownRiceProteinPowder</th>\n",
       "      <th>wheyAndCaseinProteinPowder</th>\n",
       "    </tr>\n",
       "  </thead>\n",
       "  <tbody>\n",
       "    <tr>\n",
       "      <th>0</th>\n",
       "      <td>march19num1</td>\n",
       "      <td>NaN</td>\n",
       "      <td>NaN</td>\n",
       "      <td>NaN</td>\n",
       "      <td>NaN</td>\n",
       "      <td>NaN</td>\n",
       "      <td>NaN</td>\n",
       "      <td>NaN</td>\n",
       "      <td>NaN</td>\n",
       "      <td>NaN</td>\n",
       "      <td>NaN</td>\n",
       "    </tr>\n",
       "  </tbody>\n",
       "</table>\n",
       "</div>"
      ],
      "text/plain": [
       "       dateNum  bobsRedMillwholeWheatPastryFlour  allPuroseFlour  \\\n",
       "0  march19num1                               NaN             NaN   \n",
       "\n",
       "   wincoWholeWheatPastryFlour  cakeFlour  bobsRedMIllPastryFlour  AlmondFlour  \\\n",
       "0                         NaN        NaN                     NaN          NaN   \n",
       "\n",
       "   PeaProteinPowder  soyProteinPowder  brownRiceProteinPowder  \\\n",
       "0               NaN               NaN                     NaN   \n",
       "\n",
       "   wheyAndCaseinProteinPowder  \n",
       "0                         NaN  "
      ]
     },
     "execution_count": 13,
     "metadata": {},
     "output_type": "execute_result"
    }
   ],
   "source": [
    "pd.DataFrame.merge(floursFrame,proteinPowdersFrame)\n",
    "#THIS IS WHAT I WANT TO HAPPEN "
   ]
  },
  {
   "cell_type": "code",
   "execution_count": 48,
   "metadata": {},
   "outputs": [
    {
     "data": {
      "text/html": [
       "<div>\n",
       "<style scoped>\n",
       "    .dataframe tbody tr th:only-of-type {\n",
       "        vertical-align: middle;\n",
       "    }\n",
       "\n",
       "    .dataframe tbody tr th {\n",
       "        vertical-align: top;\n",
       "    }\n",
       "\n",
       "    .dataframe thead th {\n",
       "        text-align: right;\n",
       "    }\n",
       "</style>\n",
       "<table border=\"1\" class=\"dataframe\">\n",
       "  <thead>\n",
       "    <tr style=\"text-align: right;\">\n",
       "      <th></th>\n",
       "      <th>dateRecipeType</th>\n",
       "      <th>bobsRedMillwholeWheatPastryFlour</th>\n",
       "      <th>allPuroseFlour</th>\n",
       "      <th>wincoWholeWheatPastryFlour</th>\n",
       "      <th>cakeFlour</th>\n",
       "      <th>bobsRedMIllPastryFlour</th>\n",
       "      <th>AlmondFlour</th>\n",
       "    </tr>\n",
       "  </thead>\n",
       "  <tbody>\n",
       "    <tr>\n",
       "      <th>0</th>\n",
       "      <td>NaN</td>\n",
       "      <td>NaN</td>\n",
       "      <td>NaN</td>\n",
       "      <td>NaN</td>\n",
       "      <td>NaN</td>\n",
       "      <td>NaN</td>\n",
       "      <td>NaN</td>\n",
       "    </tr>\n",
       "    <tr>\n",
       "      <th>march20Trad</th>\n",
       "      <td>NaN</td>\n",
       "      <td>NaN</td>\n",
       "      <td>NaN</td>\n",
       "      <td>NaN</td>\n",
       "      <td>NaN</td>\n",
       "      <td>NaN</td>\n",
       "      <td>NaN</td>\n",
       "    </tr>\n",
       "  </tbody>\n",
       "</table>\n",
       "</div>"
      ],
      "text/plain": [
       "            dateRecipeType  bobsRedMillwholeWheatPastryFlour  allPuroseFlour  \\\n",
       "0                      NaN                               NaN             NaN   \n",
       "march20Trad            NaN                               NaN             NaN   \n",
       "\n",
       "             wincoWholeWheatPastryFlour  cakeFlour  bobsRedMIllPastryFlour  \\\n",
       "0                                   NaN        NaN                     NaN   \n",
       "march20Trad                         NaN        NaN                     NaN   \n",
       "\n",
       "             AlmondFlour  \n",
       "0                    NaN  \n",
       "march20Trad          NaN  "
      ]
     },
     "execution_count": 48,
     "metadata": {},
     "output_type": "execute_result"
    }
   ],
   "source": [
    "floursFrame.where(floursFrame.loc[:,'dateRecipeType'] == 'march20Trade`')"
   ]
  },
  {
   "cell_type": "code",
   "execution_count": null,
   "metadata": {},
   "outputs": [],
   "source": []
  },
  {
   "cell_type": "code",
   "execution_count": null,
   "metadata": {},
   "outputs": [],
   "source": []
  },
  {
   "cell_type": "code",
   "execution_count": null,
   "metadata": {},
   "outputs": [],
   "source": []
  },
  {
   "cell_type": "code",
   "execution_count": null,
   "metadata": {},
   "outputs": [],
   "source": [
    "\n",
    "\n"
   ]
  },
  {
   "cell_type": "code",
   "execution_count": 129,
   "metadata": {},
   "outputs": [],
   "source": [
    "allIngredients  = pd.concat([proteinPowdersFrame , floursFrame , leveningFrame , SpicesFrame, BindingFrame,  tastersFrame,eggSubstitutesFrame, oilsAndFatsFrame ])"
   ]
  },
  {
   "cell_type": "code",
   "execution_count": 130,
   "metadata": {},
   "outputs": [
    {
     "data": {
      "text/html": [
       "<div>\n",
       "<style scoped>\n",
       "    .dataframe tbody tr th:only-of-type {\n",
       "        vertical-align: middle;\n",
       "    }\n",
       "\n",
       "    .dataframe tbody tr th {\n",
       "        vertical-align: top;\n",
       "    }\n",
       "\n",
       "    .dataframe thead th {\n",
       "        text-align: right;\n",
       "    }\n",
       "</style>\n",
       "<table border=\"1\" class=\"dataframe\">\n",
       "  <thead>\n",
       "    <tr style=\"text-align: right;\">\n",
       "      <th></th>\n",
       "      <th>PeaProteinPowder</th>\n",
       "      <th>soyProteinPowder</th>\n",
       "      <th>brownRiceProteinPowder</th>\n",
       "      <th>wheyAndCaseinProteinPowder</th>\n",
       "      <th>bobsRedMillwholeWheatFlour</th>\n",
       "      <th>allPuroseFlour</th>\n",
       "      <th>wincoWholeWheatPastryFlour</th>\n",
       "      <th>cakeFlour</th>\n",
       "      <th>bobsRedMIllPastryFlour</th>\n",
       "      <th>AlmondFlour</th>\n",
       "      <th>...</th>\n",
       "      <th>bobsRedMillEggReplacer</th>\n",
       "      <th>flaxMeal</th>\n",
       "      <th>chiaSeeds</th>\n",
       "      <th>water</th>\n",
       "      <th>coconutOil</th>\n",
       "      <th>vegtableOil</th>\n",
       "      <th>canolaOil</th>\n",
       "      <th>earthBalanceButter</th>\n",
       "      <th>aquafabaButter</th>\n",
       "      <th></th>\n",
       "    </tr>\n",
       "  </thead>\n",
       "  <tbody>\n",
       "  </tbody>\n",
       "</table>\n",
       "<p>0 rows × 31 columns</p>\n",
       "</div>"
      ],
      "text/plain": [
       "Empty DataFrame\n",
       "Columns: [PeaProteinPowder, soyProteinPowder, brownRiceProteinPowder, wheyAndCaseinProteinPowder, bobsRedMillwholeWheatFlour, allPuroseFlour, wincoWholeWheatPastryFlour, cakeFlour, bobsRedMIllPastryFlour, AlmondFlour, backingSoda, backingPowder, cinamon, nutmeg, xanthamGum, guarGuam, cornStarch, cocoaPowder, vanillaExtract, naturesFlavorsButterExtract, espressoPowder, bobsRedMillEggReplacer, flaxMeal, chiaSeeds, water, coconutOil, vegtableOil, canolaOil, earthBalanceButter, aquafabaButter, ]\n",
       "Index: []\n",
       "\n",
       "[0 rows x 31 columns]"
      ]
     },
     "execution_count": 130,
     "metadata": {},
     "output_type": "execute_result"
    }
   ],
   "source": [
    "allIngredients"
   ]
  },
  {
   "cell_type": "code",
   "execution_count": 219,
   "metadata": {},
   "outputs": [],
   "source": [
    "# experiments with making new columns #ADDING A COLUMN\n",
    "'''\n",
    "recipes2.assign(ingredientColumns = 0)\n",
    "#not work because ingredientCOlumns is the variable name\n",
    "recipes= recipes.assign(bb = 1)\n",
    "#assign is nice for adding new columns, doesn't work with an iterable \n",
    "recipes= recipes.assign(dd = 2 , ee = 2)\n",
    "#creates new columns with the variable name as the new column name and the value in every row\n",
    "#once again good if adding new ingredient and want to 0 out every column\n",
    "recipes.loc[:,'new2']  = 0\n",
    "#this is another good`` way to add a column, I can control what the column is named and fill with 0'set\n",
    "recipes.loc[:,'new2'] = 0 \n",
    "#if I\"m adding a new ingredient, I think it's safe to fill with 0's because all my previous recipes won't have used it\n",
    "# a new ingredient implies all the old recipes haven't use it\n",
    "recipes2.loc[:, ingredientColumns] = 0\n",
    "'#does what I want because it uses ingredientColumns as an iterable to make a new column name for each item in the iterable'\n",
    "'''\n",
    "#ADDING A ROW\n",
    "'''recipes.loc[5, 'bb'] = [3]\n",
    "\n",
    "#this method won't work as well because I'll have some recipes that don't use every ingredient \n",
    "#need to give the label for the columns assigning to --actually I think it's fine\n",
    "recipes = pd.concat([recipes , pd.DataFrame([['test2', 2 ]])])\n",
    "#this is taking two dataFrames and joining them\n",
    "# good for adding a row, but I'm not sure how to assign to a specific column \n",
    "recipes.loc[1]\n",
    "#when not assigning to the dataframe the loc just works with labels and gives the vlaue at the position\n",
    "recipes.loc['new', ['bb' , 'cc' ,'test1']] = [4,5,6]\n",
    "#This is a nice way to do it because I will know which columns I'm assigning to  \n",
    "'''"
   ]
  },
  {
   "cell_type": "code",
   "execution_count": 192,
   "metadata": {},
   "outputs": [],
   "source": [
    "#dateNum = pd.DataFrame(['march19num1'])\n",
    "#putting a valid string into a dataFrame which I don't need for later"
   ]
  },
  {
   "cell_type": "code",
   "execution_count": 208,
   "metadata": {},
   "outputs": [
    {
     "data": {
      "text/html": [
       "<div>\n",
       "<style scoped>\n",
       "    .dataframe tbody tr th:only-of-type {\n",
       "        vertical-align: middle;\n",
       "    }\n",
       "\n",
       "    .dataframe tbody tr th {\n",
       "        vertical-align: top;\n",
       "    }\n",
       "\n",
       "    .dataframe thead th {\n",
       "        text-align: right;\n",
       "    }\n",
       "</style>\n",
       "<table border=\"1\" class=\"dataframe\">\n",
       "  <thead>\n",
       "    <tr style=\"text-align: right;\">\n",
       "      <th></th>\n",
       "      <th>marchl</th>\n",
       "      <th>bobsRedMillwholeWheatFlour</th>\n",
       "      <th>allPuroseFlour</th>\n",
       "      <th>wincoWholeWheatPastryFlour</th>\n",
       "      <th>cakeFlour</th>\n",
       "      <th>bobsRedMIllPastryFlour</th>\n",
       "      <th>AlmondFlour</th>\n",
       "      <th>marchR</th>\n",
       "      <th>PeaProteinPowder</th>\n",
       "      <th>soyProteinPowder</th>\n",
       "      <th>brownRiceProteinPowder</th>\n",
       "      <th>wheyAndCaseinProteinPowder</th>\n",
       "    </tr>\n",
       "  </thead>\n",
       "  <tbody>\n",
       "    <tr>\n",
       "      <th>march19num1</th>\n",
       "      <td>march</td>\n",
       "      <td>45.0</td>\n",
       "      <td>60.0</td>\n",
       "      <td>0.0</td>\n",
       "      <td>0.0</td>\n",
       "      <td>0.0</td>\n",
       "      <td>15.0</td>\n",
       "      <td>NaN</td>\n",
       "      <td>NaN</td>\n",
       "      <td>NaN</td>\n",
       "      <td>NaN</td>\n",
       "      <td>NaN</td>\n",
       "    </tr>\n",
       "  </tbody>\n",
       "</table>\n",
       "</div>"
      ],
      "text/plain": [
       "            marchl  bobsRedMillwholeWheatFlour  allPuroseFlour  \\\n",
       "march19num1  march                        45.0            60.0   \n",
       "\n",
       "             wincoWholeWheatPastryFlour  cakeFlour  bobsRedMIllPastryFlour  \\\n",
       "march19num1                         0.0        0.0                     0.0   \n",
       "\n",
       "             AlmondFlour marchR  PeaProteinPowder  soyProteinPowder  \\\n",
       "march19num1         15.0    NaN               NaN               NaN   \n",
       "\n",
       "             brownRiceProteinPowder  wheyAndCaseinProteinPowder  \n",
       "march19num1                     NaN                         NaN  "
      ]
     },
     "execution_count": 208,
     "metadata": {},
     "output_type": "execute_result"
    }
   ],
   "source": [
    "#pd.DataFrame.join(floursFrame,proteinPowdersFrame, how='left', on = ['march'] , lsuffix='l' , rsuffix='R')"
   ]
  },
  {
   "cell_type": "code",
   "execution_count": 115,
   "metadata": {},
   "outputs": [],
   "source": [
    "##how do i remake dataframe when I want to add a new ingredient and I want it to be in the proper column next to the other ones that are similar\n",
    "\n",
    "#ANSWER: each list gets it's own dataframe which are joined into a larger dataframe"
   ]
  },
  {
   "cell_type": "code",
   "execution_count": 188,
   "metadata": {},
   "outputs": [],
   "source": [
    "#recipes2 = pd.DataFrame([[]])\n",
    "#recipes = pd.DataFrame([[]])"
   ]
  },
  {
   "cell_type": "code",
   "execution_count": 189,
   "metadata": {},
   "outputs": [],
   "source": [
    "#MAKING THE REAL RECIPE COLUMNS AND FRAME"
   ]
  }
 ],
 "metadata": {
  "kernelspec": {
   "display_name": "Python 3",
   "language": "python",
   "name": "python3"
  },
  "language_info": {
   "codemirror_mode": {
    "name": "ipython",
    "version": 3
   },
   "file_extension": ".py",
   "mimetype": "text/x-python",
   "name": "python",
   "nbconvert_exporter": "python",
   "pygments_lexer": "ipython3",
   "version": "3.11.8"
  }
 },
 "nbformat": 4,
 "nbformat_minor": 2
}
